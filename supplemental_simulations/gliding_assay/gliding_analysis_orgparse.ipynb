{
 "cells": [
  {
   "cell_type": "markdown",
   "id": "530bf6d8",
   "metadata": {},
   "source": [
    "# export this to other file formats"
   ]
  },
  {
   "cell_type": "markdown",
   "id": "848d5852",
   "metadata": {},
   "source": [
    "These files are symbolically linked such that their source is the\n",
    "version-controlled directory, but they can be exported from the local directory\n",
    "where the analysis happens\n",
    "\n",
    "Due to this difference in directory structure, anyone else using these scripts\n",
    "will have to make sure the locations of their data are specified correctly in\n",
    "the set working directories section."
   ]
  },
  {
   "cell_type": "markdown",
   "id": "f7b58131",
   "metadata": {},
   "source": [
    "## convert to jupyter notebook"
   ]
  },
  {
   "cell_type": "markdown",
   "id": "37b4936a",
   "metadata": {},
   "source": [
    "### using pandoc"
   ]
  },
  {
   "cell_type": "markdown",
   "id": "17c9473a",
   "metadata": {},
   "source": [
    "this looks nice but it's just a big markdown block\n",
    "#+BEGIN_SRC bash :session 6_11_6\n",
    "pandoc 6.11.6_analysis.org -o gliding_analysis_pandoc.ipynb"
   ]
  },
  {
   "cell_type": "markdown",
   "id": "3dea96d9",
   "metadata": {},
   "source": [
    "### using orgparse"
   ]
  },
  {
   "cell_type": "markdown",
   "id": "65be7f7b",
   "metadata": {},
   "source": [
    "this is the only way that makes runnable python cells, though lots of formatting\n",
    "doesn't work"
   ]
  },
  {
   "cell_type": "code",
   "execution_count": null,
   "id": "2f375e42",
   "metadata": {},
   "outputs": [
    {
     "name": "stdout",
     "output_type": "stream",
     "text": [
      "c692b3bc6302671c75bffbd145877bfc\n"
     ]
    }
   ],
   "source": [
    "import orgparse\n",
    "import nbformat as nbf\n",
    "import re\n",
    "import base64\n",
    "\n",
    "def parse_results(results_block):\n",
    "    \"\"\"\n",
    "    Parse the #+RESULTS: block to extract outputs.\n",
    "    \"\"\"\n",
    "    outputs = []\n",
    "    lines = results_block.strip().split(\"\\n\")\n",
    "\n",
    "    for line in lines:\n",
    "        if line.strip().startswith(\": \"):\n",
    "            outputs.append(nbf.v4.new_output(output_type=\"stream\", name=\"stdout\", text=line[2:].strip() + \"\\n\"))\n",
    "        elif re.match(r\"\\[\\[.*\\.(png|jpg|jpeg|gif)\\]\\]\", line.strip()):\n",
    "            image_path = re.search(r\"\\[\\[(.*\\.(png|jpg|jpeg|gif))\\]\\]\", line.strip()).group(1)\n",
    "            try:\n",
    "                with open(image_path, \"rb\") as f:\n",
    "                    image_data = base64.b64encode(f.read()).decode(\"utf-8\")\n",
    "                outputs.append(nbf.v4.new_output(\n",
    "                    output_type=\"display_data\",\n",
    "                    data={\"image/png\": image_data},\n",
    "                    metadata={}\n",
    "                ))\n",
    "            except FileNotFoundError:\n",
    "                print(f\"Warning: Image file not found: {image_path}\")\n",
    "    return outputs\n",
    "\n",
    "def convert_org_links_to_markdown(text):\n",
    "    \"\"\"\n",
    "    Convert Org mode links to Markdown links.\n",
    "    \"\"\"\n",
    "    text = re.sub(r\"\\[\\[([^\\]]+)\\]\\[([^\\]]+)\\]\\]\", r\"[\\2](\\1)\", text)\n",
    "    text = re.sub(r\"\\[\\[([^\\]]+)\\]\\]\", r\"[\\1](\\1)\", text)\n",
    "    return text\n",
    "\n",
    "def org_to_ipynb(org_file, ipynb_file):\n",
    "    org = orgparse.load(org_file)\n",
    "    nb = nbf.v4.new_notebook()\n",
    "    cells = []\n",
    "\n",
    "    for node in org[1:]:\n",
    "        if \":noexport:\" in node.tags or (node.heading and \":noexport:\" in node.heading.lower()):\n",
    "            continue\n",
    "\n",
    "        if node.heading:\n",
    "            heading_level = \"#\" * node.level\n",
    "            cells.append(nbf.v4.new_markdown_cell(f\"{heading_level} {node.heading}\"))\n",
    "\n",
    "        in_code_block = False\n",
    "        in_results_block = False\n",
    "        code_lines = []\n",
    "        markdown_lines = []\n",
    "        results_block = \"\"\n",
    "\n",
    "        for line in node.body.split(\"\\n\"):\n",
    "            if line.strip().startswith(\"#+BEGIN_SRC python\"):\n",
    "                in_code_block = True\n",
    "                if markdown_lines:\n",
    "                    markdown_text = convert_org_links_to_markdown(\"\\n\".join(markdown_lines)).strip()\n",
    "                    if markdown_text:\n",
    "                        cells.append(nbf.v4.new_markdown_cell(markdown_text))\n",
    "                    markdown_lines = []\n",
    "                continue\n",
    "            elif line.strip().startswith(\"#+END_SRC\"):\n",
    "                in_code_block = False\n",
    "                if code_lines:\n",
    "                    code_cell = nbf.v4.new_code_cell(\"\\n\".join(code_lines))\n",
    "                    cells.append(code_cell)\n",
    "                    code_lines = []\n",
    "                continue\n",
    "            elif line.strip().startswith(\"#+RESULTS:\"):\n",
    "                in_results_block = True\n",
    "                continue\n",
    "            elif in_results_block and line.strip() == \":end:\":\n",
    "                in_results_block = False\n",
    "                if results_block.strip():\n",
    "                    outputs = parse_results(results_block)\n",
    "                    if outputs and cells:\n",
    "                        cells[-1].outputs = outputs\n",
    "                results_block = \"\"\n",
    "            elif in_code_block:\n",
    "                code_lines.append(line)\n",
    "            elif in_results_block:\n",
    "                results_block += line + \"\\n\"\n",
    "            else:\n",
    "                markdown_lines.append(convert_org_links_to_markdown(line))\n",
    "\n",
    "        markdown_text = convert_org_links_to_markdown(\"\\n\".join(markdown_lines)).strip()\n",
    "        if markdown_text:\n",
    "            cells.append(nbf.v4.new_markdown_cell(markdown_text))\n",
    "\n",
    "    nb.cells = cells\n",
    "    with open(ipynb_file, \"w\") as f:\n",
    "        nbf.write(nb, f)\n",
    "\n",
    "# Convert your Org file\n",
    "org_to_ipynb(\"6.11.6_analysis.org\",\n",
    "             \"gliding_analysis_orgparse.ipynb\")"
   ]
  },
  {
   "cell_type": "markdown",
   "id": "a31aca70",
   "metadata": {},
   "source": [
    "#+BEGIN_SRC emacs-lisp :tangle no\n",
    "(org-babel-tangle)"
   ]
  },
  {
   "cell_type": "markdown",
   "id": "e852187a",
   "metadata": {},
   "source": [
    "## export to org document"
   ]
  },
  {
   "cell_type": "markdown",
   "id": "4bb6cfa2",
   "metadata": {},
   "source": [
    "#+begin_src emacs-lisp :tangle no\n",
    "(org-org-export-to-org)\n",
    "#+end_src"
   ]
  },
  {
   "cell_type": "markdown",
   "id": "41c31678",
   "metadata": {},
   "source": [
    "## export to markdown document"
   ]
  },
  {
   "cell_type": "markdown",
   "id": "f1f4cd4c",
   "metadata": {},
   "source": [
    "#+begin_src emacs-lisp :tangle no\n",
    "(org-md-export-to-markdown)\n",
    "#+end_src"
   ]
  },
  {
   "cell_type": "markdown",
   "id": "339cbe8c",
   "metadata": {},
   "source": [
    "# figure generation index"
   ]
  },
  {
   "cell_type": "markdown",
   "id": "7ef1140c",
   "metadata": {},
   "source": [
    "| figure | panel | link                 |\n",
    "|--------+-------+----------------------|\n",
    "| S2     | D     | final myo parameters |"
   ]
  },
  {
   "cell_type": "markdown",
   "id": "d40aaf83",
   "metadata": {},
   "source": [
    "# configuration"
   ]
  },
  {
   "cell_type": "markdown",
   "id": "20c8a1d5",
   "metadata": {},
   "source": [
    "## set global variables"
   ]
  },
  {
   "cell_type": "code",
   "execution_count": null,
   "id": "5d249f58",
   "metadata": {},
   "outputs": [],
   "source": [
    "#timestep = 5e-5\n",
    "report = 'no'\n",
    "replace_movies = 'no'\n",
    "save_figures = 'yes'\n",
    "save_dataframes = 'yes'"
   ]
  },
  {
   "cell_type": "markdown",
   "id": "e9eefcbe",
   "metadata": {},
   "source": [
    "## load and configure libraries"
   ]
  },
  {
   "cell_type": "code",
   "execution_count": null,
   "id": "b7bb8715",
   "metadata": {},
   "outputs": [],
   "source": [
    "import os\n",
    "import sys\n",
    "from tabulate import tabulate\n",
    "import math\n",
    "import numpy as np\n",
    "import pandas as pd\n",
    "import shutil\n",
    "import subprocess\n",
    "from subprocess import Popen\n",
    "import datetime\n",
    "import matplotlib.pyplot as plt  # plotting\n",
    "import seaborn as sns  # nicer plotting\n",
    "from decimal import Decimal\n",
    "import matplotlib.colors as mplcolors\n",
    "import matplotlib\n",
    "from matplotlib.colors import LogNorm\n",
    "from matplotlib.colors import SymLogNorm\n",
    "from matplotlib.cm import ScalarMappable\n",
    "from scipy.stats import binned_statistic_2d\n",
    "from scipy import stats\n",
    "from scipy.signal import savgol_filter\n",
    "from scipy.signal import find_peaks\n",
    "import textwrap\n",
    "from decimal import Decimal\n",
    "from scipy.stats import binned_statistic_2d\n",
    "from matplotlib.font_manager import FontProperties\n",
    "import matplotlib.pyplot as plt  # plotting\n",
    "import matplotlib.colors as mcolors\n",
    "from matplotlib.colors import LogNorm\n",
    "from matplotlib.colors import SymLogNorm\n",
    "plt.style.use('seaborn-v0_8-colorblind') # set plot style\n",
    "plt.cool()                          # heatmap color scheme\n",
    "matplotlib.rcParams['axes.prop_cycle'] = matplotlib.cycler(color=mcolors.TABLEAU_COLORS)\n",
    "%matplotlib inline\n",
    "\n",
    "import seaborn as sns  # nicer plotting\n",
    "sns.set_style('whitegrid')  # set plot style\n",
    "\n",
    "SMALL_SIZE = 20\n",
    "MEDIUM_SIZE = 24\n",
    "BIGGER_SIZE = 30\n",
    "\n",
    "plt.rc('font', size=SMALL_SIZE)          # controls default text sizes\n",
    "plt.rc('axes', titlesize=MEDIUM_SIZE)     # fontsize of the axes title\n",
    "plt.rc('axes', labelsize=MEDIUM_SIZE)    # fontsize of the x and y labels\n",
    "plt.rc('xtick', labelsize=SMALL_SIZE)    # fontsize of the tick labels\n",
    "plt.rc('ytick', labelsize=SMALL_SIZE)    # fontsize of the tick labels\n",
    "plt.rc('legend', fontsize=SMALL_SIZE)    # legend fontsize\n",
    "plt.rc('figure', titlesize=BIGGER_SIZE)  # fontsize of the figure title\n",
    "plt.rc('figure', figsize=[6,5]) # default figure width, height\n",
    "\n",
    "now = datetime.datetime.now()\n",
    "date = now.strftime('%Y%m%d')\n",
    "pref = date"
   ]
  },
  {
   "cell_type": "markdown",
   "id": "046af928",
   "metadata": {},
   "source": [
    "## set working directories"
   ]
  },
  {
   "cell_type": "code",
   "execution_count": null,
   "id": "12efa955",
   "metadata": {},
   "outputs": [],
   "source": [
    "#machine = 'peeks'\n",
    "machine = 'ltpbukem'\n",
    "\n",
    "if machine == 'ltpbukem':\n",
    "    drive_dir = '/home/maxferrin/google_drive/'\n",
    "\n",
    "if machine == 'bizon':\n",
    "    drive_dir = '/media/bizon/DATA/MFerrin/insync/'\n",
    "\n",
    "if machine == 'peeks':\n",
    "    drive_dir = '/scratch/ferrin/unison_peeks/'\n",
    "\n",
    "if machine == 'drumroom':\n",
    "    drive_dir = '/Users/max/google_drive/'\n",
    "\n",
    "if machine == 'mbp':\n",
    "    drive_dir = '/Users/maxferrin/google_drive/'\n",
    "\n",
    "if machine == 'sobarky':\n",
    "    drive_dir = '/Users/dblab/google_drive/'\n",
    "\n",
    "\n",
    "working_dir = os.path.join(drive_dir, 'grad_school/db_lab/code/analysis/6.11.6_temp/')\n",
    "cytosim_dir = os.path.join(drive_dir, 'grad_school/db_lab/code/cytosim_dblab/', machine)\n",
    "\n",
    "if machine == 'peeks':\n",
    "    working_dir = '/run/media/ferrin/Volume/max/analysis/6.11.6_temp/'\n",
    "    cytosim_dir = '/home/ferrin/cytosim/'\n",
    "\n",
    "dataframes_dir = os.path.join(working_dir,'dataframes/')\n",
    "\n",
    "os.chdir(working_dir)\n",
    "\n",
    "if os.path.isdir('figures') == False:\n",
    "    os.mkdir('figures')\n",
    "if os.path.isdir('dataframes') == False:\n",
    "    os.mkdir('dataframes')"
   ]
  },
  {
   "cell_type": "markdown",
   "id": "a4c135b1",
   "metadata": {},
   "source": [
    "## load custom functions"
   ]
  },
  {
   "cell_type": "code",
   "execution_count": null,
   "id": "72a6952b",
   "metadata": {},
   "outputs": [],
   "source": [
    "# add parent folder to path\n",
    "sys.path.insert(1, '../')\n",
    "from cytosim_analysis import cytosim_analysis_functions as caf\n",
    "\n",
    "# reload custom library\n",
    "from importlib import reload\n",
    "reload(sys.modules['cytosim_analysis'])"
   ]
  },
  {
   "cell_type": "markdown",
   "id": "603f19bd",
   "metadata": {},
   "source": [
    "## for running in emacs org-mode"
   ]
  },
  {
   "cell_type": "code",
   "execution_count": null,
   "id": "d8f1c842",
   "metadata": {},
   "outputs": [],
   "source": [
    "import IPython\n",
    "from tabulate import tabulate\n",
    "\n",
    "class OrgFormatter(IPython.core.formatters.BaseFormatter):\n",
    "    def __call__(self, obj):\n",
    "        try:\n",
    "            return tabulate(obj, headers='keys',\n",
    "                            tablefmt='orgtbl', showindex='always')\n",
    "        except:\n",
    "            return None\n",
    "\n",
    "ip = get_ipython()\n",
    "ip.display_formatter.formatters['text/org'] = OrgFormatter()"
   ]
  },
  {
   "cell_type": "markdown",
   "id": "c9f066cb",
   "metadata": {},
   "source": [
    "# find directories that have outputs or config files"
   ]
  },
  {
   "cell_type": "markdown",
   "id": "b7ea6371",
   "metadata": {},
   "source": [
    "#+begin_src python\n",
    "output_dirs, config_dirs = caf.find_directories()\n",
    "print(output_dirs, config_dirs)\n",
    " #+end_src"
   ]
  },
  {
   "cell_type": "markdown",
   "id": "0676819a",
   "metadata": {},
   "source": [
    "# report simulations"
   ]
  },
  {
   "cell_type": "markdown",
   "id": "6a6d0e13",
   "metadata": {},
   "source": [
    "this crashes\n",
    "\n",
    " #+begin_src python\n",
    " solid_allruns_allparams, properties_allruns_allparams, \\\n",
    " configs_allruns_allparams, single_hip1r_allruns_allparams, \\\n",
    " single_membrane_myosin_allruns_allparams, fiber_forces_allruns_allparams, \\\n",
    " fiber_clusters_allruns_allparams, fiber_tensions_allruns_allparams, \\\n",
    " fiber_ends_allruns_allparams, rundirs_allparams, total_runs = \\\n",
    " caf.report_sims(working_dir, output_dirs, config_dirs, cytosim_dir,\n",
    " report, replace_movies)\n",
    " #+end_src\n",
    "\n",
    "this is better\n",
    " #+begin_src python\n",
    " properties_allruns_allparams, configs_allruns_allparams, \\\n",
    " fiber_ends_allruns_allparams, rundirs_allparams, \\\n",
    " total_runs = caf.report_fiber_ends(\n",
    "     working_dir, output_dirs, config_dirs,\n",
    "     cytosim_dir, report, replace_movies)\n",
    "\n",
    "rundirs_allparams_df = pd.DataFrame.from_dict(rundirs_allparams, orient = 'index')\n",
    "if save_dataframes == 'yes':\n",
    "    rundirs_allparams_df.to_pickle(dataframes_dir+'rundirs_allparams.pkl')\n",
    " #+end_src"
   ]
  },
  {
   "cell_type": "markdown",
   "id": "9bb28090",
   "metadata": {},
   "source": [
    "# read simulation properties"
   ]
  },
  {
   "cell_type": "markdown",
   "id": "7da068dc",
   "metadata": {},
   "source": [
    "## put all properties and configs into dataframes"
   ]
  },
  {
   "cell_type": "markdown",
   "id": "a60a8b9d",
   "metadata": {},
   "source": [
    "#+begin_src python\n",
    "properties_allparams, config_allparams = caf.props_configs(\n",
    "    output_dirs, rundirs_allparams_df,\n",
    "    properties_allruns_allparams, configs_allruns_allparams)\n",
    "#+end_src"
   ]
  },
  {
   "cell_type": "markdown",
   "id": "efc2d872",
   "metadata": {},
   "source": [
    "## filter for properties that vary among simulations"
   ]
  },
  {
   "cell_type": "code",
   "execution_count": null,
   "id": "68a619a0",
   "metadata": {},
   "outputs": [],
   "source": [
    "   cols = list(properties_allparams)\n",
    "   nunique = properties_allparams.apply(pd.Series.nunique)\n",
    "   cols_to_drop = nunique[nunique == 1].index\n",
    "   properties_unique = properties_allparams.drop(cols_to_drop, axis=1)\n",
    "   #properties_unique = properties_unique.drop(labels='internalize_random_seed',axis=1)\n",
    "   properties_unique.head()"
   ]
  },
  {
   "cell_type": "code",
   "execution_count": null,
   "id": "aa241ccb",
   "metadata": {},
   "outputs": [],
   "source": [
    " cols = list(config_allparams)\n",
    " nunique = config_allparams.apply(pd.Series.nunique)\n",
    " cols_to_drop = nunique[nunique == 1].index\n",
    " config_unique = config_allparams.drop(cols_to_drop, axis=1)\n",
    " #config_unique = config_unique.drop(['membrane_myosin_position'], axis=1)\n",
    " config_unique = config_unique.astype('float')\n",
    " config_unique.head()"
   ]
  },
  {
   "cell_type": "markdown",
   "id": "5eeeff07",
   "metadata": {},
   "source": [
    "# parse results into dataframe"
   ]
  },
  {
   "cell_type": "markdown",
   "id": "969a5489",
   "metadata": {},
   "source": [
    "## fiber ends"
   ]
  },
  {
   "cell_type": "markdown",
   "id": "1984c956",
   "metadata": {},
   "source": [
    "#+begin_src python\n",
    "ends_allparams = caf.get_fiber_ends_2d(output_dirs, rundirs_allparams_df, fiber_ends_allruns_allparams)\n",
    "\n",
    "if save_dataframes == 'yes':\n",
    "    ends_allparams.to_pickle(dataframes_dir+'ends_allparams.pkl')\n",
    "\n",
    "ends_allparams.head()\n",
    "#+end_src"
   ]
  },
  {
   "cell_type": "markdown",
   "id": "2cafccdb",
   "metadata": {},
   "source": [
    "# load in previously parsed dataframes"
   ]
  },
  {
   "cell_type": "markdown",
   "id": "9d5ea46c",
   "metadata": {},
   "source": [
    "#+begin_src python\n",
    "ends_allparams = pd.read_pickle(dataframes_dir+'ends_allparams.pkl')\n",
    "rundirs_allparams_df = pd.read_pickle(dataframes_dir+'rundirs_allparams.pkl')\n",
    "rundirs_allparams_df.fillna(value='empty', inplace=True)\n",
    "#+end_src"
   ]
  },
  {
   "cell_type": "markdown",
   "id": "36209ec3",
   "metadata": {},
   "source": [
    "# plot results"
   ]
  },
  {
   "cell_type": "markdown",
   "id": "ae4d77cf",
   "metadata": {},
   "source": [
    "## actin plus end displacement"
   ]
  },
  {
   "cell_type": "markdown",
   "id": "d64d65cc",
   "metadata": {},
   "source": [
    "### all parameters"
   ]
  },
  {
   "cell_type": "code",
   "execution_count": null,
   "id": "c7969a63",
   "metadata": {},
   "outputs": [],
   "source": [
    " num_plots = total_runs\n",
    "\n",
    " width = 6\n",
    " if width > num_plots:\n",
    "     width = 1\n",
    " height = int(math.ceil(float(num_plots)/float(width)))\n",
    "\n",
    " #max_int = solid_allparams['internalization'].max()*1000\n",
    "\n",
    " # plt.figure(figsize=(4*width,3*height)) #width, height\n",
    " fig, ax = plt.subplots(nrows=height, ncols=width, sharex=True, sharey=True, figsize=(6*width,7*height))\n",
    " fig.add_subplot(111, frameon=False)\n",
    " plt.tick_params(labelcolor='none', top='off', bottom='off', left='off', right='off')\n",
    " plt.grid(False)\n",
    " fig.text(0.5, 0, 'time (s)', ha='center', size=24)\n",
    " fig.text(0, 0.5, 'barbed end displacement (μm)', va='center', rotation='vertical', size=24)\n",
    "\n",
    " plot_no = 0\n",
    "\n",
    " for output_dir in output_dirs:\n",
    "     rundirs = rundirs_allparams[output_dir]\n",
    "     for run in rundirs:\n",
    "\n",
    "         props = config_allparams.loc[output_dir].loc[run]\n",
    "         #viscosity = props['internalize.cym_viscosity']\n",
    "         #hip1r_off = props['strongbinder_unbinding'].split(',')[0]\n",
    "\n",
    "         plot_no += 1\n",
    "\n",
    "         plt.subplot(height,width,plot_no) #height, width\n",
    "         for fiber_id in range(1,26):\n",
    "             xdisp = ends_allparams.loc[[output_dir], [run], :, [fiber_id]]['plus_xpos']-ends_allparams.loc[(output_dir, run, 0.1, fiber_id)]['plus_xpos']\n",
    "             ydisp = ends_allparams.loc[[output_dir], [run], :, [fiber_id]]['plus_ypos']-ends_allparams.loc[(output_dir, run, 0.1, fiber_id)]['plus_ypos']\n",
    "             disp = np.sqrt(np.square(xdisp) + np.square(ydisp))\n",
    "             x = xdisp.reset_index()['time']\n",
    "             y = disp\n",
    "             plt.plot(x,y)\n",
    "         plt.xlim(right = 5)\n",
    "         plt.ylim(top = 1.5)\n",
    "         # plt.xlabel('time (s)')\n",
    "         # plt.ylabel('internalization (nm)')\n",
    "\n",
    "         title = output_dir+'\\n'+run+'\\n'\n",
    "         for prop in list(config_unique):\n",
    "             title += prop + ' = ' + str(props[prop]) + '\\n'\n",
    "\n",
    "         # for prop, value in zip(config_groups, name):\n",
    "         #     title += prop + ' = ' + str(value) + '\\n'\n",
    "\n",
    "\n",
    "         plt.title(title)\n",
    "\n",
    " plt.tight_layout()\n",
    "\n",
    " if save_figures == 'yes':\n",
    "   plt.savefig(working_dir+'figures/'+pref+'_plusend_disp-vs-time_all.png')"
   ]
  },
  {
   "cell_type": "markdown",
   "id": "4f3d6d2b",
   "metadata": {},
   "source": [
    "### final myo parameters"
   ]
  },
  {
   "cell_type": "markdown",
   "id": "17e47116",
   "metadata": {},
   "source": [
    "#+begin_src python\n",
    "plt.figure(figsize=[6,5])\n",
    "\n",
    "for fiber_id in range(1,26):\n",
    "    xdisp = ends_allparams.loc[['6.11.6_output'], ['run0019_0000'], :, [fiber_id]]['plus_xpos']-ends_allparams.loc[('6.11.6_output', 'run0019_0000', 0.1, fiber_id)]['plus_xpos']\n",
    "    ydisp = ends_allparams.loc[['6.11.6_output'], ['run0019_0000'], :, [fiber_id]]['plus_ypos']-ends_allparams.loc[('6.11.6_output', 'run0019_0000', 0.1, fiber_id)]['plus_ypos']\n",
    "    disp = np.sqrt(np.square(xdisp) + np.square(ydisp))\n",
    "    x = xdisp.reset_index()['time']\n",
    "    y = disp\n",
    "    plt.plot(x,y)\n",
    "\n",
    "plt.xlabel('Time ($s$)')\n",
    "plt.ylabel('Barbed end\\ndisplacement ($\\mu m$)')\n",
    "plt.tight_layout()\n",
    "\n",
    "if save_figures == 'yes':\n",
    "    plt.savefig(working_dir+'figures/publish/gliding_displacement.svg')\n",
    "#+end_src"
   ]
  },
  {
   "cell_type": "code",
   "execution_count": null,
   "id": "66059646",
   "metadata": {},
   "outputs": [],
   "source": [
    "config_allparams.loc[('6.11.6_output', 'run0019_0000')]"
   ]
  }
 ],
 "metadata": {},
 "nbformat": 4,
 "nbformat_minor": 5
}
