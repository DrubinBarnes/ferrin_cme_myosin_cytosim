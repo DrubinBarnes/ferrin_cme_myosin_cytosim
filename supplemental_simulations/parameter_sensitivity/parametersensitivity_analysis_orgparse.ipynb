{
 "cells": [
  {
   "cell_type": "markdown",
   "id": "412ae9d0",
   "metadata": {},
   "source": [
    "# export this to other file formats"
   ]
  },
  {
   "cell_type": "markdown",
   "id": "9b530b1c",
   "metadata": {},
   "source": [
    "These files are symbolically linked such that their source is the\n",
    "version-controlled directory, but they can be exported from the local directory\n",
    "where the analysis happens\n",
    "\n",
    "Due to this difference in directory structure, anyone else using these scripts\n",
    "will have to make sure the locations of their data are specified correctly in\n",
    "the set working directories scetion."
   ]
  },
  {
   "cell_type": "markdown",
   "id": "2fcd6093",
   "metadata": {},
   "source": [
    "## convert to jupyter notebook"
   ]
  },
  {
   "cell_type": "markdown",
   "id": "3c61be84",
   "metadata": {},
   "source": [
    "### using pandoc"
   ]
  },
  {
   "cell_type": "markdown",
   "id": "9a8fe763",
   "metadata": {},
   "source": [
    "this looks nice but it's just a big markdown block\n",
    "#+BEGIN_SRC bash :session 6_11\n",
    "pandoc 6.11_analysis.org -o parametersensitivity_analysis_pandoc.ipynb"
   ]
  },
  {
   "cell_type": "markdown",
   "id": "0fa2e0bf",
   "metadata": {},
   "source": [
    "### using orgparse"
   ]
  },
  {
   "cell_type": "markdown",
   "id": "c9c6e7e6",
   "metadata": {},
   "source": [
    "this is the only way that makes runnable python cells, though lots of formatting\n",
    "doesn't work"
   ]
  },
  {
   "cell_type": "code",
   "execution_count": null,
   "id": "a18dc01f",
   "metadata": {},
   "outputs": [
    {
     "name": "stdout",
     "output_type": "stream",
     "text": [
      "9884c9cd74ac9c925bb74a16f7864d24\n"
     ]
    }
   ],
   "source": [
    "import orgparse\n",
    "import nbformat as nbf\n",
    "import re\n",
    "import base64\n",
    "\n",
    "def parse_results(results_block):\n",
    "    \"\"\"\n",
    "    Parse the #+RESULTS: block to extract outputs.\n",
    "    \"\"\"\n",
    "    outputs = []\n",
    "    lines = results_block.strip().split(\"\\n\")\n",
    "\n",
    "    for line in lines:\n",
    "        if line.strip().startswith(\": \"):\n",
    "            outputs.append(nbf.v4.new_output(output_type=\"stream\", name=\"stdout\", text=line[2:].strip() + \"\\n\"))\n",
    "        elif re.match(r\"\\[\\[.*\\.(png|jpg|jpeg|gif)\\]\\]\", line.strip()):\n",
    "            image_path = re.search(r\"\\[\\[(.*\\.(png|jpg|jpeg|gif))\\]\\]\", line.strip()).group(1)\n",
    "            try:\n",
    "                with open(image_path, \"rb\") as f:\n",
    "                    image_data = base64.b64encode(f.read()).decode(\"utf-8\")\n",
    "                outputs.append(nbf.v4.new_output(\n",
    "                    output_type=\"display_data\",\n",
    "                    data={\"image/png\": image_data},\n",
    "                    metadata={}\n",
    "                ))\n",
    "            except FileNotFoundError:\n",
    "                print(f\"Warning: Image file not found: {image_path}\")\n",
    "    return outputs\n",
    "\n",
    "def convert_org_links_to_markdown(text):\n",
    "    \"\"\"\n",
    "    Convert Org mode links to Markdown links.\n",
    "    \"\"\"\n",
    "    text = re.sub(r\"\\[\\[([^\\]]+)\\]\\[([^\\]]+)\\]\\]\", r\"[\\2](\\1)\", text)\n",
    "    text = re.sub(r\"\\[\\[([^\\]]+)\\]\\]\", r\"[\\1](\\1)\", text)\n",
    "    return text\n",
    "\n",
    "def org_to_ipynb(org_file, ipynb_file):\n",
    "    org = orgparse.load(org_file)\n",
    "    nb = nbf.v4.new_notebook()\n",
    "    cells = []\n",
    "\n",
    "    for node in org[1:]:\n",
    "        if \":noexport:\" in node.tags or (node.heading and \":noexport:\" in node.heading.lower()):\n",
    "            continue\n",
    "\n",
    "        if node.heading:\n",
    "            heading_level = \"#\" * node.level\n",
    "            cells.append(nbf.v4.new_markdown_cell(f\"{heading_level} {node.heading}\"))\n",
    "\n",
    "        in_code_block = False\n",
    "        in_results_block = False\n",
    "        code_lines = []\n",
    "        markdown_lines = []\n",
    "        results_block = \"\"\n",
    "\n",
    "        for line in node.body.split(\"\\n\"):\n",
    "            if line.strip().startswith(\"#+BEGIN_SRC python\"):\n",
    "                in_code_block = True\n",
    "                if markdown_lines:\n",
    "                    markdown_text = convert_org_links_to_markdown(\"\\n\".join(markdown_lines)).strip()\n",
    "                    if markdown_text:\n",
    "                        cells.append(nbf.v4.new_markdown_cell(markdown_text))\n",
    "                    markdown_lines = []\n",
    "                continue\n",
    "            elif line.strip().startswith(\"#+END_SRC\"):\n",
    "                in_code_block = False\n",
    "                if code_lines:\n",
    "                    code_cell = nbf.v4.new_code_cell(\"\\n\".join(code_lines))\n",
    "                    cells.append(code_cell)\n",
    "                    code_lines = []\n",
    "                continue\n",
    "            elif line.strip().startswith(\"#+RESULTS:\"):\n",
    "                in_results_block = True\n",
    "                continue\n",
    "            elif in_results_block and line.strip() == \":end:\":\n",
    "                in_results_block = False\n",
    "                if results_block.strip():\n",
    "                    outputs = parse_results(results_block)\n",
    "                    if outputs and cells:\n",
    "                        cells[-1].outputs = outputs\n",
    "                results_block = \"\"\n",
    "            elif in_code_block:\n",
    "                code_lines.append(line)\n",
    "            elif in_results_block:\n",
    "                results_block += line + \"\\n\"\n",
    "            else:\n",
    "                markdown_lines.append(convert_org_links_to_markdown(line))\n",
    "\n",
    "        markdown_text = convert_org_links_to_markdown(\"\\n\".join(markdown_lines)).strip()\n",
    "        if markdown_text:\n",
    "            cells.append(nbf.v4.new_markdown_cell(markdown_text))\n",
    "\n",
    "    nb.cells = cells\n",
    "    with open(ipynb_file, \"w\") as f:\n",
    "        nbf.write(nb, f)\n",
    "\n",
    "# Convert your Org file\n",
    "org_to_ipynb(\"6.11_analysis.org\",\n",
    "             \"parametersensitivity_analysis_orgparse.ipynb\")"
   ]
  },
  {
   "cell_type": "markdown",
   "id": "f4e33275",
   "metadata": {},
   "source": [
    "## export to org document"
   ]
  },
  {
   "cell_type": "markdown",
   "id": "b8683a5c",
   "metadata": {},
   "source": [
    "#+begin_src emacs-lisp :tangle no\n",
    "(org-org-export-to-org)\n",
    "#+end_src"
   ]
  },
  {
   "cell_type": "markdown",
   "id": "4a97c611",
   "metadata": {},
   "source": [
    "## export to markdown document"
   ]
  },
  {
   "cell_type": "markdown",
   "id": "720ee9d2",
   "metadata": {},
   "source": [
    "#+begin_src emacs-lisp :tangle no\n",
    "(org-md-export-to-markdown)\n",
    "#+end_src"
   ]
  },
  {
   "cell_type": "markdown",
   "id": "b4d46001",
   "metadata": {},
   "source": [
    "# figure generation index"
   ]
  },
  {
   "cell_type": "markdown",
   "id": "c16b3095",
   "metadata": {},
   "source": [
    "| figure | panel | link       |\n",
    "|--------+-------+------------|\n",
    "| S2     | E     | line plots |\n",
    "| S2     | E     | line plots |\n",
    "| S2     | E     | line plots |\n",
    "| S2     | E     | line plots |"
   ]
  },
  {
   "cell_type": "markdown",
   "id": "93136f3c",
   "metadata": {},
   "source": [
    "# configuration"
   ]
  },
  {
   "cell_type": "markdown",
   "id": "e0eb5170",
   "metadata": {},
   "source": [
    "## set global variables"
   ]
  },
  {
   "cell_type": "code",
   "execution_count": null,
   "id": "56301e0f",
   "metadata": {},
   "outputs": [],
   "source": [
    "#timestep = 5e-5\n",
    "report = 'no'\n",
    "replace_movies = 'no'\n",
    "save_figures = 'yes'\n",
    "save_dataframes = 'yes'"
   ]
  },
  {
   "cell_type": "markdown",
   "id": "cd76202c",
   "metadata": {},
   "source": [
    "## load and configure libraries"
   ]
  },
  {
   "cell_type": "code",
   "execution_count": null,
   "id": "ef505f73",
   "metadata": {},
   "outputs": [],
   "source": [
    "import os\n",
    "import sys\n",
    "from tabulate import tabulate\n",
    "import math\n",
    "import numpy as np\n",
    "import pandas as pd\n",
    "import shutil\n",
    "import subprocess\n",
    "from subprocess import Popen\n",
    "import datetime\n",
    "import matplotlib.pyplot as plt  # plotting\n",
    "import seaborn as sns  # nicer plotting\n",
    "from decimal import Decimal\n",
    "import matplotlib.colors as mplcolors\n",
    "import matplotlib\n",
    "from matplotlib.colors import LogNorm\n",
    "from matplotlib.colors import SymLogNorm\n",
    "from matplotlib.cm import ScalarMappable\n",
    "from scipy.stats import binned_statistic_2d\n",
    "from scipy import stats\n",
    "from scipy.signal import savgol_filter\n",
    "from scipy.signal import find_peaks\n",
    "import textwrap\n",
    "from decimal import Decimal\n",
    "from scipy.stats import binned_statistic_2d\n",
    "from matplotlib.font_manager import FontProperties\n",
    "import matplotlib.pyplot as plt  # plotting\n",
    "import matplotlib.colors as mcolors\n",
    "from matplotlib.colors import LogNorm\n",
    "from matplotlib.colors import SymLogNorm\n",
    "plt.style.use('seaborn-v0_8-colorblind') # set plot style\n",
    "plt.cool()                          # heatmap color scheme\n",
    "matplotlib.rcParams['axes.prop_cycle'] = matplotlib.cycler(color=mcolors.TABLEAU_COLORS)\n",
    "%matplotlib inline\n",
    "\n",
    "import seaborn as sns  # nicer plotting\n",
    "sns.set_style('whitegrid')  # set plot style\n",
    "\n",
    "SMALL_SIZE = 20\n",
    "MEDIUM_SIZE = 24\n",
    "BIGGER_SIZE = 30\n",
    "\n",
    "plt.rc('font', size=SMALL_SIZE)          # controls default text sizes\n",
    "plt.rc('axes', titlesize=MEDIUM_SIZE)     # fontsize of the axes title\n",
    "plt.rc('axes', labelsize=MEDIUM_SIZE)    # fontsize of the x and y labels\n",
    "plt.rc('xtick', labelsize=SMALL_SIZE)    # fontsize of the tick labels\n",
    "plt.rc('ytick', labelsize=SMALL_SIZE)    # fontsize of the tick labels\n",
    "plt.rc('legend', fontsize=SMALL_SIZE)    # legend fontsize\n",
    "plt.rc('figure', titlesize=BIGGER_SIZE)  # fontsize of the figure title\n",
    "plt.rc('figure', figsize=[6,5]) # default figure width, height\n",
    "\n",
    "now = datetime.datetime.now()\n",
    "date = now.strftime('%Y%m%d')\n",
    "pref = date"
   ]
  },
  {
   "cell_type": "markdown",
   "id": "856a9599",
   "metadata": {},
   "source": [
    "## set working directories"
   ]
  },
  {
   "cell_type": "code",
   "execution_count": null,
   "id": "a3da5573",
   "metadata": {},
   "outputs": [],
   "source": [
    "#machine = 'peeks'\n",
    "machine = 'ltpbukem'\n",
    "\n",
    "if machine == 'ltpbukem':\n",
    "    drive_dir = '/home/maxferrin/google_drive/'\n",
    "\n",
    "if machine == 'bizon':\n",
    "    drive_dir = '/media/bizon/DATA/MFerrin/insync/'\n",
    "\n",
    "if machine == 'peeks':\n",
    "    drive_dir = '/scratch/ferrin/unison_peeks/'\n",
    "\n",
    "if machine == 'drumroom':\n",
    "    drive_dir = '/Users/max/google_drive/'\n",
    "\n",
    "if machine == 'mbp':\n",
    "    drive_dir = '/Users/maxferrin/google_drive/'\n",
    "\n",
    "if machine == 'sobarky':\n",
    "    drive_dir = '/Users/dblab/google_drive/'\n",
    "\n",
    "\n",
    "working_dir = os.path.join(drive_dir, 'grad_school/db_lab/code/analysis/20230610_6.11_parameter_sensitivity/')\n",
    "cytosim_dir = os.path.join(drive_dir, 'grad_school/db_lab/code/cytosim_dblab/', machine)\n",
    "\n",
    "if machine == 'peeks':\n",
    "    working_dir = '/run/media/ferrin/Volume/max/analysis/20230610_6.11_parameter_sensitivity/'\n",
    "    cytosim_dir = '/home/ferrin/cytosim/'\n",
    "\n",
    "dataframes_dir = os.path.join(working_dir,'dataframes/')\n",
    "\n",
    "os.chdir(working_dir)\n",
    "\n",
    "if os.path.isdir('figures') == False:\n",
    "    os.mkdir('figures')\n",
    "if os.path.isdir('dataframes') == False:\n",
    "    os.mkdir('dataframes')"
   ]
  },
  {
   "cell_type": "markdown",
   "id": "5596d4c5",
   "metadata": {},
   "source": [
    "## load custom functions"
   ]
  },
  {
   "cell_type": "code",
   "execution_count": null,
   "id": "fb0030ac",
   "metadata": {},
   "outputs": [],
   "source": [
    "# add parent folder to path\n",
    "sys.path.insert(1, '../')\n",
    "from cytosim_analysis import cytosim_analysis_functions as caf\n",
    "\n",
    "# reload custom library\n",
    "from importlib import reload\n",
    "reload(sys.modules['cytosim_analysis'])"
   ]
  },
  {
   "cell_type": "markdown",
   "id": "b7cfdfcd",
   "metadata": {},
   "source": [
    "## for running in emacs org-mode"
   ]
  },
  {
   "cell_type": "code",
   "execution_count": null,
   "id": "53cabe00",
   "metadata": {},
   "outputs": [],
   "source": [
    "import IPython\n",
    "from tabulate import tabulate\n",
    "\n",
    "class OrgFormatter(IPython.core.formatters.BaseFormatter):\n",
    "    def __call__(self, obj):\n",
    "        try:\n",
    "            return tabulate(obj, headers='keys',\n",
    "                            tablefmt='orgtbl', showindex='always')\n",
    "        except:\n",
    "            return None\n",
    "\n",
    "ip = get_ipython()\n",
    "ip.display_formatter.formatters['text/org'] = OrgFormatter()"
   ]
  },
  {
   "cell_type": "markdown",
   "id": "865fc687",
   "metadata": {},
   "source": [
    "# find directories that have outputs or config files"
   ]
  },
  {
   "cell_type": "markdown",
   "id": "ed590bea",
   "metadata": {},
   "source": [
    "#+begin_src python\n",
    "output_dirs, config_dirs = caf.find_directories()\n",
    "print(output_dirs, config_dirs)\n",
    " #+end_src"
   ]
  },
  {
   "cell_type": "markdown",
   "id": "e5fd809f",
   "metadata": {},
   "source": [
    "# OLD report simulations"
   ]
  },
  {
   "cell_type": "markdown",
   "id": "89cb2b9b",
   "metadata": {},
   "source": [
    "#+begin_src python\n",
    " solid_allruns_allparams, properties_allruns_allparams, \\\n",
    " configs_allruns_allparams, single_hip1r_allruns_allparams, \\\n",
    " single_membrane_myosin_allruns_allparams, fiber_forces_allruns_allparams, \\\n",
    " fiber_clusters_allruns_allparams, fiber_tensions_allruns_allparams, \\\n",
    " fiber_ends_allruns_allparams, rundirs_allparams, total_runs = \\\n",
    " caf.report_sims(working_dir, output_dirs, cytosim_dir, report)\n",
    " #+end_src"
   ]
  },
  {
   "cell_type": "markdown",
   "id": "ad26f8ad",
   "metadata": {},
   "source": [
    "# report simulations"
   ]
  },
  {
   "cell_type": "code",
   "execution_count": null,
   "id": "978fdf6a",
   "metadata": {},
   "outputs": [],
   "source": [
    "caf.report_sims(working_dir, output_dirs, cytosim_dir, report)"
   ]
  },
  {
   "cell_type": "markdown",
   "id": "d0e53fe0",
   "metadata": {},
   "source": [
    "# read in reports"
   ]
  },
  {
   "cell_type": "markdown",
   "id": "7559b708",
   "metadata": {},
   "source": [
    "- not enough memory to do all at once!\n",
    "- just fiber forces alone requires too much memory"
   ]
  },
  {
   "cell_type": "code",
   "execution_count": null,
   "id": "8d8ab520",
   "metadata": {},
   "outputs": [],
   "source": [
    "reports = [\n",
    "    'solid',\n",
    "    # 'single_hip1r',\n",
    "    'single_membrane_myosin'#,\n",
    "    # 'fiber_cluster',\n",
    "    # 'fiber_forces',\n",
    "    # 'fiber_tensions',\n",
    "    # 'fiber_ends'\n",
    "    ]\n",
    "\n",
    "#reports = ['solid']\n",
    "#reports = ['fiber_ends']\n",
    "\n",
    "solid_allruns_allparams, properties_allruns_allparams, \\\n",
    "configs_allruns_allparams, single_hip1r_allruns_allparams, \\\n",
    "single_membrane_myosin_allruns_allparams, fiber_forces_allruns_allparams, \\\n",
    "fiber_clusters_allruns_allparams, fiber_tensions_allruns_allparams, \\\n",
    "fiber_ends_allruns_allparams, rundirs_allparams, total_runs = \\\n",
    "caf.open_reports(reports, working_dir, output_dirs, config_dirs,\n",
    "cytosim_dir, replace_movies)\n",
    "\n",
    "if save_dataframes == 'yes':\n",
    "    pd.DataFrame.from_dict(rundirs_allparams, orient = 'index').to_pickle(dataframes_dir+'rundirs_allparams.pkl')"
   ]
  },
  {
   "cell_type": "markdown",
   "id": "9fe3db66",
   "metadata": {},
   "source": [
    "# read simulation properties"
   ]
  },
  {
   "cell_type": "markdown",
   "id": "817a977f",
   "metadata": {},
   "source": [
    "## put all properties and configs into dataframes"
   ]
  },
  {
   "cell_type": "markdown",
   "id": "baf1a527",
   "metadata": {},
   "source": [
    "#+begin_src python\n",
    "properties_allparams, config_allparams = caf.props_configs(\n",
    "    output_dirs, rundirs_allparams_df,\n",
    "    properties_allruns_allparams, configs_allruns_allparams)\n",
    "#+end_src"
   ]
  },
  {
   "cell_type": "markdown",
   "id": "38abece8",
   "metadata": {},
   "source": [
    "## filter for properties that vary among simulations"
   ]
  },
  {
   "cell_type": "code",
   "execution_count": null,
   "id": "e4b73e8e",
   "metadata": {},
   "outputs": [],
   "source": [
    "   cols = list(properties_allparams)\n",
    "   nunique = properties_allparams.apply(pd.Series.nunique)\n",
    "   cols_to_drop = nunique[nunique == 1].index\n",
    "   properties_unique = properties_allparams.drop(cols_to_drop, axis=1)\n",
    "   properties_unique = properties_unique.drop(labels='internalize_random_seed',axis=1)\n",
    "   properties_unique.head()"
   ]
  },
  {
   "cell_type": "markdown",
   "id": "1abeeb18",
   "metadata": {},
   "source": [
    "#+RESULTS[15c9038d48ede74074eac256ede50861d5ef9b40]:\n",
    " |                                   | myosin_binding | myosin_unbinding | myosin_stall_force |\n",
    " |-----------------------------------+----------------+------------------+--------------------|\n",
    " | ('6.11.7_output', 'run0010_0003') | 3, 0.008       | 67.6, 0          |              1e+06 |\n",
    " | ('6.11.7_output', 'run0004_0003') | 3, 0.008       | 67.6, -3.67      |              1e+06 |\n",
    " | ('6.11.7_output', 'run0002_0003') | 3, 0.002       | 67.6, -3.67      |              1e+06 |\n",
    " | ('6.11.7_output', 'run0011_0003') | 3, 0.016       | 67.6, 0          |              1e+06 |\n",
    " | ('6.11.7_output', 'run0007_0003') | 3, 0.001       | 67.6, 0          |              1e+06 |"
   ]
  },
  {
   "cell_type": "code",
   "execution_count": null,
   "id": "861038d0",
   "metadata": {},
   "outputs": [],
   "source": [
    " cols = list(config_allparams)\n",
    " nunique = config_allparams.apply(pd.Series.nunique)\n",
    " cols_to_drop = nunique[nunique == 1].index\n",
    " config_unique = config_allparams.drop(cols_to_drop, axis=1)\n",
    " config_unique = config_unique.drop(['membrane_myosin_position'], axis=1)\n",
    " config_unique = config_unique.astype('float')\n",
    " config_unique.head()"
   ]
  },
  {
   "cell_type": "markdown",
   "id": "7e47d2f7",
   "metadata": {},
   "source": [
    "#+RESULTS[1b422a68534578bf15fed4ee46a5f69db45e3025]:\n",
    " :RESULTS:\n",
    " # [goto error]\n",
    " : \u001b[0;31m---------------------------------------------------------------------------\u001b[0m\n",
    " : \u001b[0;31mNameError\u001b[0m                                 Traceback (most recent call last)\n",
    " : Cell \u001b[0;32mIn[98], line 1\u001b[0m\n",
    " : \u001b[0;32m----> 1\u001b[0m cols \u001b[38;5;241m=\u001b[39m \u001b[38;5;28mlist\u001b[39m(\u001b[43mconfig_allparams\u001b[49m)\n",
    " : \u001b[1;32m      2\u001b[0m nunique \u001b[38;5;241m=\u001b[39m config_allparams\u001b[38;5;241m.\u001b[39mapply(pd\u001b[38;5;241m.\u001b[39mSeries\u001b[38;5;241m.\u001b[39mnunique)\n",
    " : \u001b[1;32m      3\u001b[0m cols_to_drop \u001b[38;5;241m=\u001b[39m nunique[nunique \u001b[38;5;241m==\u001b[39m \u001b[38;5;241m1\u001b[39m]\u001b[38;5;241m.\u001b[39mindex\n",
    " :\n",
    " : \u001b[0;31mNameError\u001b[0m: name 'config_allparams' is not defined\n",
    " :END:"
   ]
  },
  {
   "cell_type": "markdown",
   "id": "f298e232",
   "metadata": {},
   "source": [
    "# parse results into dataframe"
   ]
  },
  {
   "cell_type": "markdown",
   "id": "c258e449",
   "metadata": {},
   "source": [
    "## solid positions"
   ]
  },
  {
   "cell_type": "markdown",
   "id": "834bcc4f",
   "metadata": {},
   "source": [
    "#+begin_src python\n",
    "solid_allparams = caf.solid_positions(output_dirs, rundirs_allparams, solid_allruns_allparams)\n",
    "\n",
    "solid_allparams.head()\n",
    " #+end_src"
   ]
  },
  {
   "cell_type": "markdown",
   "id": "d6080b08",
   "metadata": {},
   "source": [
    "## all hip1r"
   ]
  },
  {
   "cell_type": "markdown",
   "id": "8fa3b718",
   "metadata": {},
   "source": [
    "#+begin_src python\n",
    "hip1r_allparams = caf.all_hip1r(output_dirs, rundirs_allparams, single_hip1r_allruns_allparams)\n",
    "\n",
    "hip1r_allparams.head()\n",
    "#+end_src"
   ]
  },
  {
   "cell_type": "markdown",
   "id": "ca719edf",
   "metadata": {},
   "source": [
    "## all myosin"
   ]
  },
  {
   "cell_type": "markdown",
   "id": "dffa62ce",
   "metadata": {},
   "source": [
    "#+begin_src python\n",
    "membrane_myosin_allparams = caf.all_myosin(output_dirs, rundirs_allparams, single_membrane_myosin_allruns_allparams)\n",
    "\n",
    "membrane_myosin_allparams.head()\n",
    " #+end_src"
   ]
  },
  {
   "cell_type": "markdown",
   "id": "2d1d1d22",
   "metadata": {},
   "source": [
    "## fiber forces"
   ]
  },
  {
   "cell_type": "markdown",
   "id": "fce90f67",
   "metadata": {},
   "source": [
    "#+begin_src python\n",
    "forces_allparams = caf.get_fiber_forces(output_dirs, rundirs_allparams, fiber_forces_allruns_allparams)\n",
    "\n",
    "forces_allparams.head()\n",
    "#+end_src"
   ]
  },
  {
   "cell_type": "markdown",
   "id": "88958000",
   "metadata": {},
   "source": [
    "## fiber ends"
   ]
  },
  {
   "cell_type": "markdown",
   "id": "90270636",
   "metadata": {},
   "source": [
    "#+begin_src python\n",
    "ends_allparams = caf.get_fiber_ends(output_dirs, rundirs_allparams, fiber_ends_allruns_allparams)\n",
    "\n",
    "ends_allparams.head()\n",
    "#+end_src"
   ]
  },
  {
   "cell_type": "markdown",
   "id": "468eb85f",
   "metadata": {},
   "source": [
    "## merge positions with run properties/configs"
   ]
  },
  {
   "cell_type": "markdown",
   "id": "70272ef2",
   "metadata": {},
   "source": [
    "### solid"
   ]
  },
  {
   "cell_type": "code",
   "execution_count": null,
   "id": "271f6274",
   "metadata": {},
   "outputs": [],
   "source": [
    "   solid_properties = pd.merge(properties_unique.reset_index(), solid_allparams.reset_index(),\n",
    "                               on=['param_sweep', 'run'], how='outer').set_index(['param_sweep', 'run'])\n",
    "   property_groups = list(properties_unique)\n",
    "   solid_property_groups = solid_properties.groupby(property_groups)\n",
    "   groups = property_groups + ['time']\n",
    "   grouped = solid_properties.groupby(groups)\n",
    "   means = grouped['internalization'].mean()\n",
    "   stds = grouped['internalization'].std()"
   ]
  },
  {
   "cell_type": "code",
   "execution_count": null,
   "id": "23cad3b8",
   "metadata": {},
   "outputs": [],
   "source": [
    "   solid_config = pd.merge(config_unique.reset_index(), solid_allparams.reset_index(),\n",
    "                           on=['param_sweep', 'run'], how='outer').set_index(['param_sweep', 'run'])\n",
    "   config_groups = list(config_unique)\n",
    "   solid_config_groups = solid_config.groupby(config_groups)\n",
    "   groups = config_groups + ['time']\n",
    "   grouped = solid_config.groupby(groups)\n",
    "   means = grouped['internalization'].mean()\n",
    "   stds = grouped['internalization'].std()\n",
    "   means.head()"
   ]
  },
  {
   "cell_type": "code",
   "execution_count": null,
   "id": "f8e8f2e1",
   "metadata": {},
   "outputs": [],
   "source": [
    "   config_groups = list(config_unique)\n",
    "   sweep_groups = config_groups + ['param_sweep']\n",
    "   solid_sweep_groups = solid_config.groupby(sweep_groups)\n",
    "   groups_sweep = sweep_groups + ['time']\n",
    "   grouped_sweep = solid_config.groupby(groups_sweep)\n",
    "   sweep_means = grouped_sweep['internalization'].mean()\n",
    "   sweep_stds = grouped_sweep['internalization'].std()\n",
    "\n",
    "   sweep_means.head()"
   ]
  },
  {
   "cell_type": "markdown",
   "id": "31443f96",
   "metadata": {},
   "source": [
    "### myosin"
   ]
  },
  {
   "cell_type": "code",
   "execution_count": null,
   "id": "e4e4e5ab",
   "metadata": {},
   "outputs": [],
   "source": [
    " membrane_myosin_config = pd.merge(config_unique.reset_index(), membrane_myosin_allparams.reset_index(),\n",
    "                         on=['param_sweep', 'run'], how='outer').set_index(['param_sweep', 'run'])\n",
    " membrane_myosin_grouped = membrane_myosin_config.groupby(groups)\n",
    " membrane_myosin_zpos_means = membrane_myosin_grouped['zpos'].mean()\n",
    " membrane_myosin_zpos_stds = membrane_myosin_grouped['zpos'].std()\n",
    " membrane_myosin_zpos_means.head()"
   ]
  },
  {
   "cell_type": "markdown",
   "id": "297b30b4",
   "metadata": {},
   "source": [
    "## write dataframes to file"
   ]
  },
  {
   "cell_type": "markdown",
   "id": "13634c92",
   "metadata": {},
   "source": [
    "#+begin_src python\n",
    "if save_dataframes == 'yes':\n",
    "    solid_allparams.to_pickle(dataframes_dir+'solid_allparams.pkl')\n",
    "    membrane_myosin_allparams.to_pickle(dataframes_dir+'membrane_myosin_allparams.pkl')\n",
    "    means.to_pickle(dataframes_dir+'means.pkl')\n",
    "    stds.to_pickle(dataframes_dir+'stds.pkl')\n",
    "    sweep_means.to_pickle(dataframes_dir+'sweep_means.pkl')\n",
    "    sweep_stds.to_pickle(dataframes_dir+'sweep_stds.pkl')\n",
    "    pd.DataFrame.from_dict(rundirs_allparams, orient = 'index').to_pickle(dataframes_dir+'rundirs_allparams.pkl')\n",
    "    properties_allparams.to_pickle(dataframes_dir+'properties_allparams.pkl')\n",
    "    properties_unique.to_pickle(dataframes_dir+'properties_unique.pkl')\n",
    "#+end_src"
   ]
  },
  {
   "cell_type": "markdown",
   "id": "f34a4f18",
   "metadata": {},
   "source": [
    "# load in previously parsed dataframes"
   ]
  },
  {
   "cell_type": "markdown",
   "id": "98217bc2",
   "metadata": {},
   "source": [
    "#+begin_src python\n",
    "solid_allparams = pd.read_pickle(dataframes_dir+'solid_allparams.pkl')\n",
    "membrane_myosin_allparams = pd.read_pickle(dataframes_dir+'membrane_myosin_allparams.pkl')\n",
    "means = pd.read_pickle(dataframes_dir+'means.pkl')\n",
    "stds = pd.read_pickle(dataframes_dir+'stds.pkl')\n",
    "sweep_means = pd.read_pickle(dataframes_dir+'sweep_means.pkl')\n",
    "sweep_stds = pd.read_pickle(dataframes_dir+'sweep_stds.pkl')\n",
    "rundirs_allparams_df = pd.read_pickle(dataframes_dir+'rundirs_allparams.pkl')\n",
    "rundirs_allparams_df.fillna(value='empty', inplace=True)\n",
    "properties_allparams = pd.read_pickle(dataframes_dir+'properties_allparams.pkl')\n",
    "properties_unique = pd.read_pickle(dataframes_dir+'properties_unique.pkl')\n",
    "property_groups = list(properties_unique)\n",
    "#+end_src"
   ]
  },
  {
   "cell_type": "markdown",
   "id": "1133abf6",
   "metadata": {},
   "source": [
    "# Analyze 95 percentile"
   ]
  },
  {
   "cell_type": "markdown",
   "id": "ae9032ce",
   "metadata": {},
   "source": [
    "#+begin_src python\n",
    "percentiles = caf.get_percentiles(output_dirs, rundirs_allparams_df, solid_allparams, properties_allparams)\n",
    "percentiles.head()\n",
    "#+end_src"
   ]
  },
  {
   "cell_type": "markdown",
   "id": "951701e8",
   "metadata": {},
   "source": [
    "# Analyze actin density"
   ]
  },
  {
   "cell_type": "markdown",
   "id": "133b41a1",
   "metadata": {},
   "source": [
    "## total actin at final timepoint"
   ]
  },
  {
   "cell_type": "markdown",
   "id": "7377bcfb",
   "metadata": {},
   "source": [
    "#+begin_src python\n",
    "actin_endpoints = caf.get_actin_endpoints(output_dirs, rundirs_allparams_df, forces_allparams)\n",
    "actin_endpoints.head()\n",
    "#+end_src"
   ]
  },
  {
   "cell_type": "markdown",
   "id": "2fac91a6",
   "metadata": {},
   "source": [
    "# plot results"
   ]
  },
  {
   "cell_type": "markdown",
   "id": "139d08bc",
   "metadata": {},
   "source": [
    "## internalization"
   ]
  },
  {
   "cell_type": "markdown",
   "id": "d347b780",
   "metadata": {},
   "source": [
    "### all runs on separate plots"
   ]
  },
  {
   "cell_type": "code",
   "execution_count": null,
   "id": "af8d0a3e",
   "metadata": {},
   "outputs": [],
   "source": [
    " num_plots = total_runs\n",
    "\n",
    " width = 6\n",
    " if width > num_plots:\n",
    "     width = 1\n",
    " height = int(math.ceil(float(num_plots)/float(width)))\n",
    "\n",
    " max_int = solid_allparams['internalization'].max()*1000\n",
    "\n",
    " # plt.figure(figsize=(4*width,3*height)) #width, height\n",
    " fig, ax = plt.subplots(nrows=height, ncols=width, sharex=True, sharey=True, figsize=(4*width,5*height))\n",
    " fig.add_subplot(111, frameon=False)\n",
    " plt.tick_params(labelcolor='none', top='off', bottom='off', left='off', right='off')\n",
    " plt.grid(False)\n",
    " fig.text(0.5, 0, 'time (s)', ha='center', size=24)\n",
    " fig.text(0, 0.5, 'internalization (nm)', va='center', rotation='vertical', size=24)\n",
    "\n",
    " plot_no = 0\n",
    "\n",
    " for output_dir in output_dirs:\n",
    "     rundirs = rundirs_allparams[output_dir]\n",
    "     for run in rundirs:\n",
    "\n",
    "         df = solid_allparams.loc[output_dir].loc[run]\n",
    "         x = df.reset_index()['time']\n",
    "         y = df['internalization']*1000\n",
    "         props = properties_allparams.loc[output_dir].loc[run]\n",
    "         viscosity = props['internalize.cym_viscosity']\n",
    "         hip1r_off = props['strongbinder_unbinding'].split(',')[0]\n",
    "\n",
    "         plot_no += 1\n",
    "\n",
    "         plt.subplot(height,width,plot_no) #height, width\n",
    "         plt.plot(x,y)\n",
    "         plt.xlim(right = 15)\n",
    "         plt.ylim(top = max_int)\n",
    "         # plt.xlabel('time (s)')\n",
    "         # plt.ylabel('internalization (nm)')\n",
    "\n",
    "         title = output_dir+'\\n'+run+'\\n'\n",
    "         for prop in property_groups:\n",
    "             title += prop + ' = ' + str(props[prop]) + '\\n'\n",
    "\n",
    "         # for prop, value in zip(config_groups, name):\n",
    "         #     title += prop + ' = ' + str(value) + '\\n'\n",
    "\n",
    "\n",
    "         plt.title(title)\n",
    "\n",
    " plt.tight_layout()\n",
    "\n",
    " if save_figures == 'yes':\n",
    "   plt.savefig(working_dir+'figures/'+pref+'_solid_zpos-vs-time_all.png')"
   ]
  },
  {
   "cell_type": "markdown",
   "id": "af7871a8",
   "metadata": {},
   "source": [
    "#+RESULTS[12bbdceb202085a80877095fe3d63774306e4207]:\n",
    " :RESULTS:\n",
    " : /tmp/ipykernel_31531/3988983614.py:33: MatplotlibDeprecationWarning: Auto-removal of overlapping axes is deprecated since 3.6 and will be removed two minor releases later; explicitly call ax.remove() as needed.\n",
    " :   plt.subplot(height,width,plot_no) #height, width\n",
    " file:./.ob-jupyter/37370d2c98575b9cecedb7985ab78bc512907353.png\n",
    " :END:"
   ]
  },
  {
   "cell_type": "markdown",
   "id": "7d045fd6",
   "metadata": {},
   "source": [
    "### means of runs with same properties"
   ]
  },
  {
   "cell_type": "code",
   "execution_count": null,
   "id": "d76a90c6",
   "metadata": {},
   "outputs": [],
   "source": [
    " # num_plots = len(solid_property_groups)\n",
    " num_plots = len(solid_config_groups)\n",
    "\n",
    " width = 6\n",
    " if width > num_plots:\n",
    "     width = 1\n",
    " height = int(math.ceil(float(num_plots)/float(width)))\n",
    "\n",
    " fig = plt.figure()\n",
    " fig.set_size_inches(4*width,4*height)\n",
    "\n",
    " commonaxis = plt.axes(frameon=False)\n",
    " commonaxis.set_xticks([])\n",
    " commonaxis.set_yticks([])\n",
    " commonaxis.yaxis.labelpad = 40 # move the labels a bit away from panels\n",
    " commonaxis.xaxis.labelpad = 40 # move the labels a bit away from panels\n",
    " commonaxis.set( xlabel = 'time (s)' )\n",
    " commonaxis.set( ylabel = 'internalization (nm)' )\n",
    "\n",
    " plot_no = 1\n",
    " plot_max = np.max(means + stds)*1000\n",
    " plot_min = np.min(means - stds)*1000\n",
    "\n",
    " for name, group in solid_config_groups:\n",
    "     x = means.loc[name].reset_index()['time']\n",
    "     y = means.loc[name]*1000\n",
    "     std = stds.loc[name]*1000\n",
    "\n",
    "     ax = fig.add_subplot(height, width, plot_no)\n",
    "     ax.errorbar(x,y,std)\n",
    "     ax.set_xlim(right = 15)\n",
    "     ax.set_ylim(bottom = plot_min, top = plot_max)\n",
    "\n",
    "     title = ''\n",
    "     for prop, value in zip(config_groups, name):\n",
    "         title += prop + ' = ' + str(round(value,3)) + '\\n'\n",
    "\n",
    "     ax.set_title(title)\n",
    "     # ax2[plot_row, plot_col].set_title(title)\n",
    "\n",
    "     print(plot_no)\n",
    "\n",
    "     plot_no += 1\n",
    "\n",
    " plt.tight_layout()\n",
    "\n",
    " if save_figures == 'yes':\n",
    "     plt.savefig(working_dir+'figures/'+pref+'_mean_solid_zpos-vs-time_all.png')"
   ]
  },
  {
   "cell_type": "markdown",
   "id": "7a22dee1",
   "metadata": {},
   "source": [
    "#+RESULTS[2e7553c05f0ce749f65585b0940a04bccac9b8b2]:\n",
    " :RESULTS:\n",
    " #+begin_example\n",
    " 1\n",
    " 2\n",
    " 3\n",
    " 4\n",
    " 5\n",
    " 6\n",
    " 7\n",
    " 8\n",
    " 9\n",
    " 10\n",
    " 11\n",
    " 12\n",
    " 13\n",
    " 14\n",
    " 15\n",
    " 16\n",
    " 17\n",
    " 18\n",
    " 19\n",
    " 20\n",
    " 21\n",
    " 22\n",
    " 23\n",
    " 24\n",
    " 25\n",
    " 26\n",
    " 27\n",
    " 28\n",
    " 29\n",
    " 30\n",
    " 31\n",
    " 32\n",
    " #+end_example\n",
    " file:./.ob-jupyter/a0ba74a131123d1a1abc8d4a6161e448cccb9c1a.png\n",
    " :END:"
   ]
  },
  {
   "cell_type": "markdown",
   "id": "69b8cca6",
   "metadata": {},
   "source": [
    "### means of individual parameter sweeps"
   ]
  },
  {
   "cell_type": "code",
   "execution_count": null,
   "id": "c4ac4121",
   "metadata": {},
   "outputs": [],
   "source": [
    "   for sweep in output_dirs:\n",
    "       sweep_config = config_unique.loc[sweep]\n",
    "       sweep_config_nunique = sweep_config.apply(pd.Series.nunique)\n",
    "       cols_to_drop = sweep_config_nunique[sweep_config_nunique == 1].index\n",
    "       sweep_config_unique = sweep_config.drop(cols_to_drop, axis = 1)\n",
    "\n",
    "       sweep_plots = []\n",
    "       for name, group in solid_sweep_groups:\n",
    "           if sweep in name:\n",
    "               sweep_plots.append(name)\n",
    "\n",
    "       num_plots = len(sweep_plots)\n",
    "\n",
    "       width = 6\n",
    "       if width > num_plots:\n",
    "           width = num_plots\n",
    "       if num_plots == 24:\n",
    "           width = 5\n",
    "       height = int(math.ceil(float(num_plots)/float(width)))\n",
    "\n",
    "       fig = plt.figure()\n",
    "       fig.set_size_inches(4*width,4*height)\n",
    "       # if height == 1:\n",
    "       #     fig.set_size_inches(4*width,6*height)\n",
    "       # else:\n",
    "       #     fig.set_size_inches(4*width,5*height)\n",
    "       fig.suptitle(sweep)\n",
    "\n",
    "       commonaxis = plt.axes(frameon=False)\n",
    "       commonaxis.set_xticks([])\n",
    "       commonaxis.set_yticks([])\n",
    "       commonaxis.yaxis.labelpad = 40 # move the labels a bit away from panels\n",
    "       commonaxis.xaxis.labelpad = 60 # move the labels a bit away from panels\n",
    "       commonaxis.set( xlabel = 'time (s)' )\n",
    "       commonaxis.set( ylabel = 'internalization (nm)' )\n",
    "\n",
    "       plot_no = 1\n",
    "       plot_max = np.max(sweep_means + sweep_stds)*1000\n",
    "       plot_min = np.min(sweep_means - sweep_stds)*1000\n",
    "\n",
    "       for name in sweep_plots:\n",
    "           x = sweep_means.loc[name].reset_index()['time']\n",
    "           y = sweep_means.loc[name]*1000\n",
    "           std = sweep_stds.loc[name]*1000\n",
    "\n",
    "           ax = fig.add_subplot(height, width, plot_no)\n",
    "           ax.errorbar(x,y,std)\n",
    "           ax.set_xlim(right = 15)\n",
    "           ax.set_ylim(bottom = plot_min, top = plot_max)\n",
    "\n",
    "           title = ''\n",
    "           for prop, value in zip(config_groups, name):\n",
    "               addition = prop + ' = ' + str(round(value,3)) + '\\n'\n",
    "               if prop in list(sweep_config_unique):\n",
    "                   title += addition\n",
    "\n",
    "\n",
    "           ax.set_title(title)\n",
    "\n",
    "           print(plot_no)\n",
    "\n",
    "           plot_no += 1\n",
    "\n",
    "       pad = 0.9 + (float(height)/100.)\n",
    "       fig.tight_layout(rect=[0, 0, 1, pad])\n",
    "\n",
    "       if save_figures == 'yes':\n",
    "           plt.savefig(working_dir+'figures/'+pref+'_'+sweep+'_mean_solid_zpos-vs-time.png')"
   ]
  },
  {
   "cell_type": "markdown",
   "id": "6f5052d3",
   "metadata": {},
   "source": [
    "## cumulative histogram"
   ]
  },
  {
   "cell_type": "markdown",
   "id": "d59bef35",
   "metadata": {},
   "source": [
    "plot an example internalization and cumulative histogram\n",
    "\n",
    "#+begin_src python\n",
    "internalization = solid_allparams.loc[output_dir].loc[run]['internalization']*1000\n",
    "y = internalization\n",
    "x = internalization.reset_index()['time']\n",
    "plt.plot(x,y)\n",
    "plt.xlabel('time (s)')\n",
    "plt.ylabel('internalization (nm)')\n",
    "\n",
    "plt.tight_layout()\n",
    "\n",
    "if save_figures == 'yes':\n",
    "  plt.savefig(working_dir+'figures/'+pref+'_solid_internalization_example.png')\n",
    "#+end_src"
   ]
  },
  {
   "cell_type": "markdown",
   "id": "272b7ecc",
   "metadata": {},
   "source": [
    "## plot 95th percentile internalization vs. parameter sweeps"
   ]
  },
  {
   "cell_type": "markdown",
   "id": "d7621563",
   "metadata": {},
   "source": [
    "#+begin_src python\n",
    "percentiles_config = pd.concat([config_unique, percentiles],axis=1)\n",
    "percentiles_config.head()\n",
    "#+end_src"
   ]
  },
  {
   "cell_type": "markdown",
   "id": "de90391a",
   "metadata": {},
   "source": [
    "### scatterplot overlaid points"
   ]
  },
  {
   "cell_type": "markdown",
   "id": "2a3ccfd2",
   "metadata": {},
   "source": [
    "#+begin_src python\n",
    "percentiles_props['myosin_unbinding'].fillna(value='empty', inplace=True)\n",
    "x = []\n",
    "y = []\n",
    "z = []\n",
    "for output_dir in output_dirs:\n",
    "    rundirs = rundirs_allparams_df.loc[output_dir]\n",
    "    for run in rundirs:\n",
    "        if run == 'empty':\n",
    "            continue\n",
    "        myosin_unbinding = percentiles_props.loc[output_dir].loc[run]['myosin_unbinding']\n",
    "        if myosin_unbinding == 'empty':\n",
    "            continue\n",
    "        myosin_off = float(myosin_unbinding.split(',')[0])\n",
    "        myosin_catch = float(myosin_unbinding.split(',')[1])\n",
    "        percentile = percentiles_props.loc[output_dir].loc[run]['95_percentile_internalization']\n",
    "        x.append(myosin_off)\n",
    "        y.append(myosin_catch)\n",
    "        z.append(percentile)\n",
    "        \n",
    "plt.scatter(x,y,c=z,alpha=0.5,linewidths=10)\n",
    "plt.xscale('symlog')\n",
    "plt.yscale('symlog')\n",
    "plt.xlabel('off-rate')\n",
    "plt.ylabel('catch bond')\n",
    "plt.gray()\n",
    "plt.colorbar()\n",
    "plt.tight_layout()\n",
    "\n",
    "if save_figures == 'yes':\n",
    "  plt.savefig(working_dir+'figures/'+pref+'_95per_sweep_overlay.png')\n",
    "#+end_src"
   ]
  },
  {
   "cell_type": "markdown",
   "id": "f5a31fdb",
   "metadata": {},
   "source": [
    "### average scatterplot"
   ]
  },
  {
   "cell_type": "markdown",
   "id": "c0c71d54",
   "metadata": {},
   "source": [
    "#+begin_src python\n",
    "# unbinding_groups = percentiles_props.groupby(['myosin_unbinding'])\n",
    "unbinding_groups = percentiles_props.groupby(['myosin_unbinding','bud_confine'])\n",
    "summary_percentiles = pd.concat([unbinding_groups['95_percentile_internalization'].mean(),\n",
    "                                 unbinding_groups['95_percentile_internalization'].std()],\n",
    "                                axis=1, keys = ['mean', 'std']).reset_index()\n",
    "summary_percentiles = pd.concat([summary_percentiles['myosin_unbinding'].str.split(', ', expand = True),\n",
    "                                 summary_percentiles], axis = 1)\n",
    "summary_percentiles.columns = ['myo_off', 'myo_catch', 'myosin_unbinding', 'bud_confine',\n",
    "                               'mean_95_percentile_internalization', 'std_95_percentile_internalization']\n",
    "summary_percentiles = summary_percentiles[~summary_percentiles['myosin_unbinding'].str.contains('empty')]\n",
    "#+end_src"
   ]
  },
  {
   "cell_type": "markdown",
   "id": "1d37850d",
   "metadata": {},
   "source": [
    "#### all"
   ]
  },
  {
   "cell_type": "markdown",
   "id": "d5ad6d88",
   "metadata": {},
   "source": [
    "#+begin_src python\n",
    "x = pd.to_numeric(summary_percentiles['myo_off'])\n",
    "y = 1/pd.to_numeric(summary_percentiles['myo_catch'])\n",
    "y.replace([np.inf, -np.inf], 0, inplace=True)\n",
    "z = pd.to_numeric(summary_percentiles['mean_95_percentile_internalization'])\n",
    "\n",
    "plt.scatter(x,y,c=z,alpha=1,linewidths=10)\n",
    "plt.xscale('symlog', linthresh=0.1)\n",
    "plt.yscale('symlog', linthresh=0.001)\n",
    "plt.xlabel('myosin unbinding rate ($s^{-1}$)')\n",
    "plt.ylabel('inverse myosin unbinding force ($pN^{-1}$)')\n",
    "plt.plasma()\n",
    "plt.colorbar(label='mean 95 percentile internalization')\n",
    "plt.tight_layout()\n",
    "\n",
    "if save_figures == 'yes':\n",
    "  plt.savefig(working_dir+'figures/'+pref+'_95per_sweep_means_scatter_inverse.png')\n",
    "#+end_src"
   ]
  },
  {
   "cell_type": "markdown",
   "id": "1721074a",
   "metadata": {},
   "source": [
    "#### split by resistance"
   ]
  },
  {
   "cell_type": "markdown",
   "id": "1917bb5d",
   "metadata": {},
   "source": [
    "#+begin_src python\n",
    "for bud_confine in properties_unique.bud_confine.unique():\n",
    "  subset_percentiles = summary_percentiles[summary_percentiles['bud_confine']==bud_confine]\n",
    "  x = pd.to_numeric(subset_percentiles['myo_off'])\n",
    "  y = 1/pd.to_numeric(subset_percentiles['myo_catch'])\n",
    "  y.replace([np.inf, -np.inf], 0, inplace=True)\n",
    "  z = pd.to_numeric(subset_percentiles['mean_95_percentile_internalization'])\n",
    "\n",
    "  plt.figure()\n",
    "  plt.scatter(x,y,c=z,alpha=1,linewidths=10)\n",
    "  plt.xscale('symlog', linthresh=0.1)\n",
    "  plt.yscale('symlog', linthresh=0.001)\n",
    "  plt.xlabel('myosin unbinding rate ($s^{-1}$)')\n",
    "  plt.ylabel('inverse myosin unbinding force ($pN^{-1}$)')\n",
    "  plt.plasma()\n",
    "  plt.colorbar(label='mean 95 percentile internalization')\n",
    "  plt.title('resistance = '+str(bud_confine))\n",
    "  plt.tight_layout()\n",
    "\n",
    "  if save_figures == 'yes':\n",
    "    plt.savefig(working_dir+'figures/'+pref+'_95per_sweep_means_scatter_inverse_'+str(bud_confine)+'.png')\n",
    "#+end_src"
   ]
  },
  {
   "cell_type": "markdown",
   "id": "a7b6a65c",
   "metadata": {},
   "source": [
    "### line plots"
   ]
  },
  {
   "cell_type": "markdown",
   "id": "eaaed69d",
   "metadata": {},
   "source": [
    "#+begin_src python\n",
    "for sweep in output_dirs:\n",
    "    percentiles_config_sweep = percentiles_config.loc[sweep]\n",
    "    sweep_config_nunique = percentiles_config_sweep.apply(pd.Series.nunique)\n",
    "    cols_to_drop = sweep_config_nunique[sweep_config_nunique == 1].index\n",
    "    percentiles_sweep_unique = percentiles_config_sweep.drop(cols_to_drop, axis = 1)\n",
    "\n",
    "    sweep_config = config_unique.loc[sweep]\n",
    "    sweep_config_nunique = sweep_config.apply(pd.Series.nunique)\n",
    "    cols_to_drop = sweep_config_nunique[sweep_config_nunique == 1].index\n",
    "    sweep_config_unique = sweep_config.drop(cols_to_drop, axis = 1)\n",
    "\n",
    "    percentiles_sweep_groups =  percentiles_sweep_unique.groupby(list(sweep_config_unique.columns))\n",
    "    summary_percentiles_sweep = pd.concat([percentiles_sweep_groups['95_percentile_internalization'].mean(),\n",
    "                                 percentiles_sweep_groups['95_percentile_internalization'].std()],\n",
    "                                axis=1, keys = ['mean', 'std']).reset_index()\n",
    "\n",
    "    slip_bond = summary_percentiles_sweep.loc[summary_percentiles_sweep['myosin_unbinding_force']==0]\n",
    "    catch_bond = summary_percentiles_sweep.loc[summary_percentiles_sweep['myosin_unbinding_force']==-3.67]\n",
    "    xcol = summary_percentiles_sweep.drop(['myosin_unbinding_force','mean','std'],axis=1).columns[0]\n",
    "\n",
    "    fig = plt.figure()\n",
    "    ax = fig.add_subplot()\n",
    "    slip_bond.plot(xcol,'mean',yerr='std',label='force-insensitive',ax=ax)\n",
    "    catch_bond.plot(xcol,'mean',yerr='std',label='catch bond',ax=ax)\n",
    "    #ax.set_xlim(left= summary_percentiles_sweep[xcol].min())\n",
    "    ax.set_xscale('log', base=10)\n",
    "    ax.set_ylabel('mean 95 percentile internalization')\n",
    "    plt.tight_layout()\n",
    "\n",
    "    if save_figures == 'yes':\n",
    "        plt.savefig(working_dir+'figures/'+pref+'_'+sweep+'_95per_means_std_lines.png')\n",
    "#+end_src"
   ]
  }
 ],
 "metadata": {},
 "nbformat": 4,
 "nbformat_minor": 5
}
