{
 "cells": [
  {
   "cell_type": "markdown",
   "metadata": {},
   "source": [
    "`objects.cmo` and `properties.cmo` need to be in `cytosim/bin/simulations`"
   ]
  },
  {
   "cell_type": "code",
   "execution_count": 2,
   "metadata": {},
   "outputs": [
    {
     "name": "stdout",
     "output_type": "stream",
     "text": [
      "/Users/Max/google_drive/grad_school/rotations/drubin/code\n",
      "#messages.cmo#\n",
      ":w\n",
      "config.cym\n",
      "fiber.csv\n",
      "fiber.txt\n",
      "fiber_clusters.txt\n",
      "forces.txt\n",
      "glide_max.cym\n",
      "glide_mighty\n",
      "glide_negativeforce\n",
      "glide_nonprocessive\n",
      "glide_simple\n",
      "low_force\n",
      "messages.cmo\n",
      "motor_filament_simple\n",
      "objects.cmo\n",
      "parameters.txt\n",
      "play\n",
      "properties.cmo\n",
      "report\n",
      "report.dSYM\n",
      "sim\n",
      "sim.dSYM\n",
      "simulations\n",
      "single_all.txt\n"
     ]
    }
   ],
   "source": [
    "%%bash\n",
    "pwd\n",
    "cp cytosim/bin/*.cmo cytosim/bin/simulations/\n",
    "python make_movie.py cytosim/bin/play movie cytosim/bin/simulations\n",
    "mkdir analysis/20180309_glide_nonprocessive/videos\n",
    "mv cytosim/bin/simulations/movie.mp4 analysis/20180309_glide_nonprocessive/videos/20180313_nonprocessive.mp4"
   ]
  },
  {
   "cell_type": "code",
   "execution_count": 9,
   "metadata": {},
   "outputs": [
    {
     "name": "stderr",
     "output_type": "stream",
     "text": [
      "mkdir: analysis/20180309_glide_nonprocessive/videos: File exists\n"
     ]
    }
   ],
   "source": []
  }
 ],
 "metadata": {
  "kernelspec": {
   "display_name": "Python 3",
   "language": "python",
   "name": "python3"
  },
  "language_info": {
   "codemirror_mode": {
    "name": "ipython",
    "version": 2
   },
   "file_extension": ".py",
   "mimetype": "text/x-python",
   "name": "python",
   "nbconvert_exporter": "python",
   "pygments_lexer": "ipython2",
   "version": "2.7.14"
  }
 },
 "nbformat": 4,
 "nbformat_minor": 2
}
